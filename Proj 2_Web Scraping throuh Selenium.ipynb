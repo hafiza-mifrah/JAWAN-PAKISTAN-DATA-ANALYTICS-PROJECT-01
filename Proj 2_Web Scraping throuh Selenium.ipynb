{
 "cells": [
  {
   "cell_type": "code",
   "execution_count": 35,
   "id": "62659088-d999-4120-bb66-2c4e60ee5823",
   "metadata": {},
   "outputs": [
    {
     "name": "stdout",
     "output_type": "stream",
     "text": [
      "Requirement already satisfied: selenium in c:\\users\\israr hussain\\anaconda3\\lib\\site-packages (4.27.1)\n",
      "Requirement already satisfied: urllib3<3,>=1.26 in c:\\users\\israr hussain\\anaconda3\\lib\\site-packages (from urllib3[socks]<3,>=1.26->selenium) (2.2.2)\n",
      "Requirement already satisfied: trio~=0.17 in c:\\users\\israr hussain\\anaconda3\\lib\\site-packages (from selenium) (0.28.0)\n",
      "Requirement already satisfied: trio-websocket~=0.9 in c:\\users\\israr hussain\\anaconda3\\lib\\site-packages (from selenium) (0.11.1)\n",
      "Requirement already satisfied: certifi>=2021.10.8 in c:\\users\\israr hussain\\anaconda3\\lib\\site-packages (from selenium) (2024.7.4)\n",
      "Requirement already satisfied: typing_extensions~=4.9 in c:\\users\\israr hussain\\anaconda3\\lib\\site-packages (from selenium) (4.11.0)\n",
      "Requirement already satisfied: websocket-client~=1.8 in c:\\users\\israr hussain\\anaconda3\\lib\\site-packages (from selenium) (1.8.0)\n",
      "Requirement already satisfied: attrs>=23.2.0 in c:\\users\\israr hussain\\anaconda3\\lib\\site-packages (from trio~=0.17->selenium) (24.3.0)\n",
      "Requirement already satisfied: sortedcontainers in c:\\users\\israr hussain\\anaconda3\\lib\\site-packages (from trio~=0.17->selenium) (2.4.0)\n",
      "Requirement already satisfied: idna in c:\\users\\israr hussain\\anaconda3\\lib\\site-packages (from trio~=0.17->selenium) (3.7)\n",
      "Requirement already satisfied: outcome in c:\\users\\israr hussain\\anaconda3\\lib\\site-packages (from trio~=0.17->selenium) (1.3.0.post0)\n",
      "Requirement already satisfied: sniffio>=1.3.0 in c:\\users\\israr hussain\\anaconda3\\lib\\site-packages (from trio~=0.17->selenium) (1.3.0)\n",
      "Requirement already satisfied: cffi>=1.14 in c:\\users\\israr hussain\\anaconda3\\lib\\site-packages (from trio~=0.17->selenium) (1.16.0)\n",
      "Requirement already satisfied: wsproto>=0.14 in c:\\users\\israr hussain\\anaconda3\\lib\\site-packages (from trio-websocket~=0.9->selenium) (1.2.0)\n",
      "Requirement already satisfied: pysocks!=1.5.7,<2.0,>=1.5.6 in c:\\users\\israr hussain\\anaconda3\\lib\\site-packages (from urllib3[socks]<3,>=1.26->selenium) (1.7.1)\n",
      "Requirement already satisfied: pycparser in c:\\users\\israr hussain\\anaconda3\\lib\\site-packages (from cffi>=1.14->trio~=0.17->selenium) (2.21)\n",
      "Requirement already satisfied: h11<1,>=0.9.0 in c:\\users\\israr hussain\\anaconda3\\lib\\site-packages (from wsproto>=0.14->trio-websocket~=0.9->selenium) (0.14.0)\n"
     ]
    }
   ],
   "source": [
    "!pip install selenium \n",
    "from selenium import webdriver\n",
    "from selenium.webdriver.common.by import By\n",
    "import pandas as pd\n",
    "import time\n",
    "\n",
    "\n"
   ]
  },
  {
   "cell_type": "code",
   "execution_count": 37,
   "id": "04d9adb4-bd71-4846-8144-e3d26ff74343",
   "metadata": {},
   "outputs": [],
   "source": [
    "# Step 1: Set up Selenium WebDriver\n",
    "# Make sure to download the correct driver for your browser and provide its path below\n",
    "from webdriver_manager.chrome import ChromeDriverManager  \n",
    "from selenium.webdriver.chrome.service import Service \n",
    "from selenium.webdriver.chrome.options import Options\n",
    "from selenium.webdriver.common.by import By \n",
    "options = Options()\n",
    "options.add_experimental_option(\"detach\", True)  \n",
    "driver = webdriver.Chrome(service=Service(ChromeDriverManager().install()), options=options)"
   ]
  },
  {
   "cell_type": "code",
   "execution_count": 39,
   "id": "4e787865-3a5a-4a9e-b97c-13ac12e918de",
   "metadata": {},
   "outputs": [],
   "source": [
    "url = 'https://www.flipkart.com/search?q=watch&otracker=search&otracker1=search&marketplace=FLIPKART&as-show=off&as=off'\n",
    "driver.get(url)\n"
   ]
  },
  {
   "cell_type": "code",
   "execution_count": 41,
   "id": "4adfc611-5f3e-4c68-84c3-b9e27907a040",
   "metadata": {},
   "outputs": [
    {
     "name": "stdout",
     "output_type": "stream",
     "text": [
      "Scraping Page 1...\n",
      "No more pages to scrape.\n",
      "Total Products Scraped: 40\n",
      "Total Prices Scraped: 40\n",
      "                                         Product_name   Prices\n",
      "0   Unique Formal Look Black Dial Watch and King D...     ₹289\n",
      "1   Day and Date Functioning Olive Green Dial Meta...     ₹299\n",
      "2   Silver Dial Stainless Steel Analog Watch - For...     ₹579\n",
      "3   Multifunction Wrist Sport Ultra Watch with Ala...     ₹399\n",
      "4       I.N.O.X. Chrono Analog Watch - For Men 241983  ₹64,077\n",
      "5     Digital Watch - For Boys G80 Day & Date Display     ₹229\n",
      "6   Multifunction Wrist Sport Ultra Watch with Ala...     ₹399\n",
      "7              Chrono Analog Watch - For Men D-MC01WT   ₹6,989\n",
      "8   Mesh Strap Multicolor Dial Quartz Analog Watch...     ₹249\n",
      "9   Trending Day & Date Functioning for Boys Analo...     ₹351\n",
      "10  Analog Watch - For Girls New Designer Pink & R...     ₹304\n",
      "11  #Unique Analoge watch Series men and boys Anal...     ₹219\n",
      "12  Vintage A158WA-1DF Black Dial Silver Stainless...   ₹1,695\n",
      "13   Maxima Blue Analog Watch - For Women O-63870CMLT   ₹1,282\n",
      "14                   Analog Watch - For Men PE000017B   ₹1,499\n",
      "15  Blue Dial Stainless Steel Analog Watch - For M...     ₹629\n",
      "16  Sport Watch Ultra Watch with LED square & Wate...     ₹229\n",
      "17  Wrist Watch Sport Watch with Black strap & Wat...     ₹301\n",
      "18  Multifunction Wrist Sport Ultra Watch with Ala...     ₹399\n",
      "19  Rose Gold Dial Analog Watch - For Women TWHL41...   ₹1,019\n",
      "20  Brown Day and Date Functioning Check Pattern S...     ₹299\n",
      "21  Sport Ultra with LED square & Water Resist Fea...     ₹229\n",
      "22  Trending Premium Quality Day & Date Functionin...     ₹359\n",
      "23                   Analog Watch - For Men AS000010E   ₹1,049\n",
      "24       Minimalists Analog Watch - For Men 38024PP25     ₹895\n",
      "25                    Analog Watch - For Men 3240SM03   ₹1,179\n",
      "26  Date N Day Analog Watch - For Boys AR-101-WHT New     ₹259\n",
      "27  Combo Analog Watch - For Men Abx8010-Gents Exc...     ₹345\n",
      "28  3002 Analog Watch - For Men Elegant Textured D...   ₹2,799\n",
      "29                 Analog Watch - For Women VH000008C   ₹1,079\n",
      "30  Multi-Function Stylish Sports PU Strap Amazing...     ₹229\n",
      "31  OTUS Limited Day and Date Functioning Series S...     ₹349\n",
      "32  Original Gold Plated Day and Date Functioning ...     ₹449\n",
      "33  Silver Dial Leather Strap Analog Watch - For M...     ₹599\n",
      "34          Analog Watch - For Women New1003_8019YM03     ₹399\n",
      "35                  Analog Watch - For Men NP7007YM02     ₹949\n",
      "36    Digital Watch - For Boys G90 Day & Date Display     ₹229\n",
      "37  Men Analog Watch - For Men LD-BK0054-OCEAN Sil...     ₹288\n",
      "38              Hampton Analog Watch - For Men AX2155   ₹5,849\n",
      "39  Blue Dial Leather Strap Analog Watch - For Men...     ₹609\n",
      "Scraping Completed!\n"
     ]
    }
   ],
   "source": [
    "Product_name = []\n",
    "prices = []\n",
    "\n",
    "for page in range(1, 11):  \n",
    "    print(f\"Scraping Page {page}...\")\n",
    "    \n",
    "    # Get all product names\n",
    "    product_elements = driver.find_elements(By.CLASS_NAME, 'WKTcLC') \n",
    "    for product in product_elements:\n",
    "        Product_name.append(product.text)\n",
    "\n",
    "    # Get all product prices and filter elements\n",
    "    price_elements = driver.find_elements(By.CLASS_NAME, 'Nx9bqj') \n",
    "    filtered_elements = [div for div in price_elements if div.get_attribute('class') == 'Nx9bqj']\n",
    "    for price in filtered_elements:\n",
    "        prices.append(price.text)\n",
    "\n",
    "    # Navigate to the next page if available\n",
    "    try:\n",
    "        next_button = driver.find_element(By.XPATH, \"//a[contains(@class, '_1LKTO3') and contains(text(), 'Next')]\")\n",
    "        next_button.click()\n",
    "        time.sleep(2)  # Wait for the page to load\n",
    "    except:\n",
    "        print(\"No more pages to scrape.\")\n",
    "        break\n",
    "\n",
    "# Create a DataFrame and save the data to Excel\n",
    "print(f\"Total Products Scraped: {len(Product_name)}\")\n",
    "print(f\"Total Prices Scraped: {len(prices)}\")\n",
    "\n",
    "# Ensure both lists are of the same length before creating the DataFrame\n",
    "if len(Product_name) == len(prices):\n",
    "    df = pd.DataFrame({\"Product_name\": Product_name, \"Prices\": prices})\n",
    "    df.to_excel('flipkart1_selenium.xlsx', index=False)\n",
    "    print(df)\n",
    "else:\n",
    "    print(\"Mismatch in Product_name and prices lengths. Please debug!\")\n",
    "\n",
    "# Step 7: Close the browser\n",
    "driver.quit()\n",
    "\n",
    "print(\"Scraping Completed!\")"
   ]
  },
  {
   "cell_type": "code",
   "execution_count": null,
   "id": "c69a31b1-23df-4957-8198-6c34f650fe69",
   "metadata": {},
   "outputs": [],
   "source": []
  }
 ],
 "metadata": {
  "kernelspec": {
   "display_name": "Python 3 (ipykernel)",
   "language": "python",
   "name": "python3"
  },
  "language_info": {
   "codemirror_mode": {
    "name": "ipython",
    "version": 3
   },
   "file_extension": ".py",
   "mimetype": "text/x-python",
   "name": "python",
   "nbconvert_exporter": "python",
   "pygments_lexer": "ipython3",
   "version": "3.12.4"
  }
 },
 "nbformat": 4,
 "nbformat_minor": 5
}
